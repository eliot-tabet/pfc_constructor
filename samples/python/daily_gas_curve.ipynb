{
 "cells": [
  {
   "cell_type": "markdown",
   "metadata": {},
   "source": [
    "### Overview\n",
    "This notebook gives an example of how to construct a simple daily gas curve model using the curves package. The function build_daily_gas_curve, defined below, takes a collection of traded forward prices, bootstraps out and overlapping prices, and then interpolates to a smooth daily curve. A constant weekend shaping factor is used to provide shaping of weekend versus weekday prices in the final curve."
   ]
  },
  {
   "cell_type": "code",
   "execution_count": 7,
   "metadata": {},
   "outputs": [],
   "source": [
    "from curves import contract_period as cp\n",
    "from curves import bootstrap_contracts, max_smooth_interp, adjustments\n",
    "from datetime import date"
   ]
  },
  {
   "cell_type": "code",
   "execution_count": 8,
   "metadata": {},
   "outputs": [],
   "source": [
    "def build_daily_gas_curve(contracts, weekend_ratio, allow_redundancy=None, shaping_ratios=None, \n",
    "                                  shaping_spreads=None, front_1st_deriv=None, back_1st_deriv=None):\n",
    "    \n",
    "    piecewise_curve, bootstrapped_contracts = bootstrap_contracts(contracts, freq='D', allow_redundancy=allow_redundancy, \n",
    "                                        shaping_ratios=shaping_ratios, shaping_spreads=shaping_spreads)\n",
    "    \n",
    "    weekend_adjust = adjustments.dayofweek(default=1.0, saturday=weekend_ratio, sunday=weekend_ratio)\n",
    "    \n",
    "    smooth_curve = max_smooth_interp(bootstrapped_contracts, freq='D', mult_season_adjust=weekend_adjust, \n",
    "                                    front_1st_deriv=front_1st_deriv, back_1st_deriv=back_1st_deriv)\n",
    "    \n",
    "    return smooth_curve, piecewise_curve, bootstrapped_contracts"
   ]
  },
  {
   "cell_type": "markdown",
   "metadata": {},
   "source": [
    "##### Inputs for the daily gas curve model"
   ]
  },
  {
   "cell_type": "code",
   "execution_count": 9,
   "metadata": {},
   "outputs": [],
   "source": [
    "weekend_ratio = 0.9\n",
    "\n",
    "contracts = [\n",
    "                ((date(2019, 1, 1), date(2019, 1, 2)), 32.7), # manually specified contract period\n",
    "                (date(2019, 1, 1), date(2019, 1, 7), 29.3), # manually specified contract period\n",
    "                (cp.q_1(2019), 22.1), \n",
    "                (date(2019, 1, 1), date(2019, 1, 31), 25.5), # January 2019\n",
    "                (cp.feb(2019), 23.3),\n",
    "                (cp.q_2(2019), 18.3),\n",
    "                (cp.q_3(2019), 17.1),\n",
    "                (cp.q_4(2019), 20.1),\n",
    "                (cp.winter(2019), 22.4),\n",
    "                (cp.summer(2020), 19.9),\n",
    "                (cp.winter(2020), 21.8),\n",
    "                (cp.gas_year(2020), 20.01)\n",
    "            ]\n",
    "\n",
    "ratios = [\n",
    "            (cp.q_1(2021), cp.q_4(2020), 1.09),\n",
    "            (cp.q_3(2020), cp.q_2(2020), 1.005)\n",
    "        ]\n",
    "\n",
    "spreads = [\n",
    "            (cp.jan(2020), cp.feb(2020), 0.5),\n",
    "        ]\n",
    "\n",
    "back_end_slope = 0.1"
   ]
  },
  {
   "cell_type": "markdown",
   "metadata": {},
   "source": [
    "#### Run Curve Calculations"
   ]
  },
  {
   "cell_type": "code",
   "execution_count": 10,
   "metadata": {},
   "outputs": [],
   "source": [
    "smooth_curve, piecewise_curve, bootstrapped_contracts = build_daily_gas_curve(contracts, weekend_ratio, shaping_ratios=ratios,\n",
    "                                                      shaping_spreads=spreads, back_1st_deriv=back_end_slope)\n"
   ]
  },
  {
   "cell_type": "markdown",
   "metadata": {},
   "source": [
    "#### Display Results"
   ]
  },
  {
   "cell_type": "code",
   "execution_count": 11,
   "metadata": {},
   "outputs": [
    {
     "data": {
      "text/plain": [
       "<matplotlib.legend.Legend at 0x2acf0ff1208>"
      ]
     },
     "execution_count": 11,
     "metadata": {},
     "output_type": "execute_result"
    },
    {
     "data": {
      "image/png": "[encoded data removed]",
      "text/plain": [
       "<Figure size 432x288 with 1 Axes>"
      ]
     },
     "metadata": {
      "needs_background": "light"
     },
     "output_type": "display_data"
    }
   ],
   "source": [
    "%matplotlib inline\n",
    "\n",
    "smooth_curve.plot(legend=True)\n",
    "ax = piecewise_curve.plot(legend=True)\n",
    "ax.legend(['Smooth curve', 'Piecewise curve'])"
   ]
  }
 ],
 "metadata": {
  "kernelspec": {
   "display_name": "Python 3",
   "language": "python",
   "name": "python3"
  },
  "language_info": {
   "codemirror_mode": {
    "name": "ipython",
    "version": 3
   },
   "file_extension": ".py",
   "mimetype": "text/x-python",
   "name": "python",
   "nbconvert_exporter": "python",
   "pygments_lexer": "ipython3",
   "version": "3.7.1"
  }
 },
 "nbformat": 4,
 "nbformat_minor": 2
}
